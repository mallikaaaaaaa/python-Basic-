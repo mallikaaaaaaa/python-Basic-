{
  "nbformat": 4,
  "nbformat_minor": 0,
  "metadata": {
    "colab": {
      "provenance": []
    },
    "kernelspec": {
      "name": "python3",
      "display_name": "Python 3"
    },
    "language_info": {
      "name": "python"
    }
  },
  "cells": [
    {
      "cell_type": "markdown",
      "source": [
        "1. **What is Python, and why is it popular?**\n",
        "\n",
        "     -> Python is a popular programming language that's easy to learn, versatile, and open-source. It's used for many tasks, including web development, data science, and machine learning.\n",
        "\n",
        "    **Why is Python popular?**\n",
        "\n",
        "     **Easy to learn:** Python has a simplified syntax that emphasizes natural language.\n",
        "\n",
        "     **Versatile:** Python can be used for many tasks, from minor to major.\n",
        "     \n",
        "     **Open-source:** Python's source code is free to the public, and developers can contribute to its development.\n",
        "\n",
        "     **Large community:** Python has a large and active community of developers.\n",
        "\n",
        "     **Extensive libraries:** Python has a large ecosystem of libraries that help developers solve common programming problems.\n",
        "\n",
        "     **Corporate support:** Python has support from major corporations like Facebook, Amazon, and Google.\n",
        "\n",
        "     **Academic use:** Python is a popular choice for academic software and is taught in many colleges and universities.\n",
        "\n",
        "2. **What is an interpreter in Python?**\n",
        "\n",
        "     -> A Python interpreter is a program that reads and executes Python code. It translates Python code into machine code that the computer can understand.\n",
        "\n",
        "3. **What are pre-defined keywords in Python?**\n",
        "\n",
        "     -> **Predefined keywords in Python include:**\n",
        "\n",
        "      **True and False:** Built-in constants that represent the boolean values of true and false\n",
        "\n",
        "      **None:** A keyword in Python\n",
        "\n",
        "      **and, or, not, in, is:** Keywords used in Python\n",
        "\n",
        "      **for, while, break, continue:** Iteration keywords used in Python\n",
        "\n",
        "      **if, else, elif:** Conditional keywords used in Python\n",
        "\n",
        "      **def, class, with, as, pass, lambda:** Structure keywords used in Python\n",
        "\n",
        "      **Return, Yield:** Return keywords used in Python\n",
        "\n",
        "4. **Can keywords be used as variable names?**\n",
        "\n",
        "     -> No, you cannot use keywords as variable names in Python. Keywords are used to define the structure and syntax of the Python language.\n",
        "\n",
        "5.  **What is mutability in Python?**\n",
        "\n",
        "     -> In Python, mutability refers to whether an object's value can change after it's created. Mutable objects can be changed in place, which means that modifying an object in one part of a program can change it in another part.\n",
        "\n",
        "     Examples of mutable objects lists, dictionaries, and sets.\n",
        "\n",
        "6. **Why are lists mutable, but tuples are immutable?**\n",
        "\n",
        "     -> Tuples and lists are the same in every way except two: tuples use parentheses instead of square brackets, and the items in tuples cannot be modified (but the items in lists can be modified). We often call lists mutable (meaning they can be changed) and tuples immutable (meaning they cannot be changed).\n",
        "\n",
        "7. **What is the difference between “==” and “is” operators in Python?**\n",
        "\n",
        "   -> In Python, the == operator compares the values of two objects, while the is operator compares their identity.\n",
        "\n",
        "   **Explanation**\n",
        "\n",
        "     The == operator is also known as the equality operator. It checks if the data or content of two objects is the same. The is operator is also known as the identity operator. It checks if two references point to the same object in memory.\n",
        "\n",
        "8. **What are logical operators in Python?**\n",
        "\n",
        "     -> Logical operators in Python are keywords that combine and evaluate multiple conditions in a single expression. The three logical operators in Python are and, or, and not.\n",
        "\n",
        "     **Logical operators in Python**\n",
        "\n",
        "      **and:** Returns True if both statements are true. For example, x < 5 and x < 10.\n",
        "\n",
        "      **or:** Returns True if one of the statements is true. For example, x < 5 or x < 4.\n",
        "\n",
        "      **not:** Reverses the result, returning False if the result is true. For example, not(x < 5 and x < 10).\n",
        "\n",
        "9. **What is type casting in Python?**\n",
        "\n",
        "     -> Type casting, also known as type conversion, is the process of changing a variable's data type to another data type in Python.\n",
        "\n",
        "10. **What is the difference between implicit and explicit type casting?**\n",
        "\n",
        "     -> In Python, \"implicit type casting\" means the interpreter automatically converts a data type to another when needed during operations, while \"explicit type casting\" requires the programmer to manually convert a data type using specific functions like int() or str() to specify the desired conversion.\n",
        "\n",
        "     **Key points about the difference:**\n",
        "\n",
        "     **Automatic vs. Manual:**\n",
        "      Implicit type casting happens automatically by Python, while explicit type casting is done by the programmer with code instructions.\n",
        "\n",
        "     **Control:**\n",
        "      With implicit type casting, the programmer has less control over the conversion, whereas explicit type casting allows precise control over data type changes.\n",
        "\n",
        "     **Example:**\n",
        "\n",
        "      **Implicit:** x = 5 + 2.5 (Here, the integer 5 is automatically converted to a float to perform the addition).\n",
        "\n",
        "      **Explicit:** y = str(5) (Here, the integer 5 is explicitly converted to a string using the str() function).\n",
        "\n",
        "11. **What is the purpose of conditional statements in Python?**\n",
        "\n",
        "     -> The purpose of conditional statements in Python is to control the flow of a program by running or skipping blocks of code based on conditions.\n",
        "\n",
        "12. **How does the elif statement work?**\n",
        "\n",
        "     -> The elif statement in Python is used to check for multiple conditions in a program. It's short for \"else if\".\n",
        "\n",
        "     **How it works**\n",
        "\n",
        "      The if statement is evaluated first.\n",
        "\n",
        "      If the if statement is false, the elif statement is evaluated.\n",
        "\n",
        "      If the elif statement is false, the else statement is evaluated.\n",
        "\n",
        "      If none of the conditions are true, the else statement is executed.\n",
        "\n",
        "13. **What is the difference between for and while loops?**\n",
        "\n",
        "     -> **Difference between for loop and while loop in Python**\n",
        "\n",
        "     **For loop**\n",
        "\n",
        "     * For loop is used to iterate over a sequence of items.\n",
        "\n",
        "     * For loops are designed for iterating over a sequence of items. Eg. list, tuple, etc.\n",
        "\n",
        "     * For loop require a sequence to iterate over.\n",
        "\n",
        "     * For loop is typically used for iterating over a fixed sequence of items.\n",
        "\n",
        "     * For loop is more efficient than a while loop when iterating over sequences, since the number of iterations is predetermined and the loop can be optimized accordingly.\n",
        "\n",
        "      **While loop**\n",
        "\n",
        "     * While loop is used to repeatedly execute a block of statements while a condition is true.\n",
        "\n",
        "    *  While loop is used when the number of iterations is not known in advance or when we want to repeat a block of code until a certain condition is met.\n",
        "\n",
        "    *  While the loop requires an initial condition that is tested at the beginning of the loop.\n",
        "\n",
        "    *  While loop is used for more complex control flow situations.\n",
        "\n",
        "  * While a loop may be more efficient in certain situations where the condition being tested can be evaluated quickly.\n",
        "\n",
        "\n",
        "14. **Describe a scenario where a while loop is more suitable than a for loop.**\n",
        "\n",
        " -> A while loop is more suitable than a for loop in scenarios where the number of iterations is not known beforehand, and the loop needs to run until a certain condition is met. This is particularly useful when the termination condition is dynamic or based on user input, external factors, or events that can change during runtime.\n",
        "\n",
        "   **Example Scenario: User Input Validation**\n",
        "\n",
        "   Let's say you're writing a program that asks the user to input a valid number. You don't know how many attempts the user will need to enter the valid input, but you want to keep prompting them until they enter a valid number. A while loop is ideal for this situation.\n",
        "\n",
        "   while True:\n",
        "\n",
        "    user_input = input(\"Please enter a valid number: \")\n",
        "    try:\n",
        "        number = float(user_input)\n",
        "        print(f\"Thank you! You entered: {number}\")\n",
        "        break  # Exit the loop if input is valid\n",
        "    except ValueError:\n",
        "        print(\"Invalid input. Try again.\")\n",
        "\n",
        "\n",
        "In this case:\n",
        "\n",
        "* You don’t know how many times the user will need to try, so the loop should continue running until a valid input is entered.\n",
        "\n",
        "* A while True loop allows this indefinite repetition, and the loop only stops when the condition (valid input) is satisfied and the break statement is executed.\n",
        "\n",
        "\n",
        "   **Why while is better here:**\n",
        "\n",
        "  * The number of iterations isn't predetermined and depends on the user’s input.\n",
        "\n",
        "  * The loop continues until the user provides a correct response, which is a condition-driven process.\n"
      ],
      "metadata": {
        "id": "XtGjFY1rAnDK"
      }
    },
    {
      "cell_type": "markdown",
      "source": [
        " **Practical Questions**"
      ],
      "metadata": {
        "id": "GsMHnsg3Mzzx"
      }
    },
    {
      "cell_type": "markdown",
      "source": [
        "1. **Write a Python program to print \"Hello, World!**"
      ],
      "metadata": {
        "id": "yGdAFhxVNfRe"
      }
    },
    {
      "cell_type": "code",
      "execution_count": null,
      "metadata": {
        "id": "sKZk6BuOAfBG",
        "colab": {
          "base_uri": "https://localhost:8080/"
        },
        "outputId": "fb189937-ba87-4b8f-83c1-286bddf7522f"
      },
      "outputs": [
        {
          "output_type": "stream",
          "name": "stdout",
          "text": [
            "Hello, World!\n"
          ]
        }
      ],
      "source": [
        "print(\"Hello, World!\")\n"
      ]
    },
    {
      "cell_type": "markdown",
      "source": [
        "2. **Write a Python program that displays your name and age.**"
      ],
      "metadata": {
        "id": "IaEom0Ewl6VO"
      }
    },
    {
      "cell_type": "code",
      "source": [
        "\n",
        "name = \"MALLIKA\"\n",
        "age = 24\n",
        "\n",
        "print(\"Name:\", name)\n",
        "print(\"Age:\", age)\n"
      ],
      "metadata": {
        "colab": {
          "base_uri": "https://localhost:8080/"
        },
        "id": "Rl9xzzG0mJNi",
        "outputId": "4949d550-22e8-4973-8dcb-1977922ef54a"
      },
      "execution_count": null,
      "outputs": [
        {
          "output_type": "stream",
          "name": "stdout",
          "text": [
            "Name: MALLIKA\n",
            "Age: 24\n"
          ]
        }
      ]
    },
    {
      "cell_type": "markdown",
      "source": [
        "3. **Write code to print all the pre-defined keywords in Python using the keyword library.**"
      ],
      "metadata": {
        "id": "am33Bb9SmUcg"
      }
    },
    {
      "cell_type": "code",
      "source": [
        "import keyword\n",
        "\n",
        "# Print all Python keywords\n",
        "print(keyword.kwlist)\n"
      ],
      "metadata": {
        "colab": {
          "base_uri": "https://localhost:8080/"
        },
        "id": "fLUP_ngtmlqO",
        "outputId": "9290eb3a-5f43-4881-c7e1-bc5b391cc388"
      },
      "execution_count": null,
      "outputs": [
        {
          "output_type": "stream",
          "name": "stdout",
          "text": [
            "['False', 'None', 'True', 'and', 'as', 'assert', 'async', 'await', 'break', 'class', 'continue', 'def', 'del', 'elif', 'else', 'except', 'finally', 'for', 'from', 'global', 'if', 'import', 'in', 'is', 'lambda', 'nonlocal', 'not', 'or', 'pass', 'raise', 'return', 'try', 'while', 'with', 'yield']\n"
          ]
        }
      ]
    },
    {
      "cell_type": "markdown",
      "source": [
        "4. **Write a program that checks if a given word is a Python keyword.**"
      ],
      "metadata": {
        "id": "qEwg0HEdm2aN"
      }
    },
    {
      "cell_type": "code",
      "source": [
        "import keyword\n",
        "\n",
        "# Get input from the user\n",
        "word = input(\"Enter a word to check if it's a Python keyword: \")\n",
        "\n",
        "# Check if the word is a Python keyword\n",
        "if keyword.iskeyword(word):\n",
        "    print(f\"'{word}' is a Python keyword.\")\n",
        "else:\n",
        "    print(f\"'{word}' is NOT a Python keyword.\")\n"
      ],
      "metadata": {
        "colab": {
          "base_uri": "https://localhost:8080/"
        },
        "id": "FzzO56pNm-iw",
        "outputId": "68bd30fd-373a-4c5e-b6e0-0f701829825f"
      },
      "execution_count": null,
      "outputs": [
        {
          "output_type": "stream",
          "name": "stdout",
          "text": [
            "Enter a word to check if it's a Python keyword: to\n",
            "'to' is NOT a Python keyword.\n"
          ]
        }
      ]
    },
    {
      "cell_type": "markdown",
      "source": [
        "5. **Create a list and tuple in Python, and demonstrate how attempting to change an element works differently for each.**"
      ],
      "metadata": {
        "id": "6uPwUr77nZxD"
      }
    },
    {
      "cell_type": "code",
      "source": [
        "# Creating a list\n",
        "my_list = [1, 2, 3, 4, 5]\n",
        "\n",
        "# Creating a tuple\n",
        "my_tuple = (1, 2, 3, 4, 5)\n",
        "\n",
        "# Attempting to change an element in the list\n",
        "print(\"Original list:\", my_list)\n",
        "my_list[2] = 10  # This will work because lists are mutable\n",
        "print(\"List after modification:\", my_list)\n",
        "\n",
        "# Attempting to change an element in the tuple\n",
        "print(\"\\nOriginal tuple:\", my_tuple)\n",
        "try:\n",
        "    my_tuple[2] = 10  # This will raise an error because tuples are immutable\n",
        "except TypeError as e:\n",
        "    print(\"Error:\", e)\n"
      ],
      "metadata": {
        "colab": {
          "base_uri": "https://localhost:8080/"
        },
        "id": "dIz56uVSnmCP",
        "outputId": "53a736b1-dcb6-47aa-fd87-7573a2f78ba3"
      },
      "execution_count": null,
      "outputs": [
        {
          "output_type": "stream",
          "name": "stdout",
          "text": [
            "Original list: [1, 2, 3, 4, 5]\n",
            "List after modification: [1, 2, 10, 4, 5]\n",
            "\n",
            "Original tuple: (1, 2, 3, 4, 5)\n",
            "Error: 'tuple' object does not support item assignment\n"
          ]
        }
      ]
    },
    {
      "cell_type": "markdown",
      "source": [
        "6. **Write a function to demonstrate the behavior of mutable and immutable arguments.**"
      ],
      "metadata": {
        "id": "fXfadPghn7BI"
      }
    },
    {
      "cell_type": "code",
      "source": [
        "def modify_arguments(mutable_arg, immutable_arg):\n",
        "    print(\"Before modification:\")\n",
        "    print(\"Mutable argument:\", mutable_arg)\n",
        "    print(\"Immutable argument:\", immutable_arg)\n",
        "\n",
        "    # Modify the mutable argument (list)\n",
        "    mutable_arg.append(100)  # This will modify the original list\n",
        "\n",
        "    # Attempt to modify the immutable argument (integer)\n",
        "    immutable_arg = 200  # This will not affect the original integer\n",
        "\n",
        "    print(\"\\nAfter modification:\")\n",
        "    print(\"Mutable argument:\", mutable_arg)  # The list is changed\n",
        "    print(\"Immutable argument:\", immutable_arg)  # The integer is not changed outside the function\n",
        "\n",
        "# Calling the function with a mutable argument (list) and an immutable argument (integer)\n",
        "my_list = [1, 2, 3]\n",
        "my_number = 50\n",
        "\n",
        "modify_arguments(my_list, my_number)\n",
        "\n",
        "# Checking the original variables outside the function\n",
        "print(\"\\nOutside the function:\")\n",
        "print(\"Original mutable argument (list):\", my_list)  # List is changed\n",
        "print(\"Original immutable argument (integer):\", my_number)  # Integer is unchanged\n"
      ],
      "metadata": {
        "colab": {
          "base_uri": "https://localhost:8080/"
        },
        "id": "NzHFE3MroCDE",
        "outputId": "eb08739a-3a01-4eb2-84fb-e71414725f0f"
      },
      "execution_count": null,
      "outputs": [
        {
          "output_type": "stream",
          "name": "stdout",
          "text": [
            "Before modification:\n",
            "Mutable argument: [1, 2, 3]\n",
            "Immutable argument: 50\n",
            "\n",
            "After modification:\n",
            "Mutable argument: [1, 2, 3, 100]\n",
            "Immutable argument: 200\n",
            "\n",
            "Outside the function:\n",
            "Original mutable argument (list): [1, 2, 3, 100]\n",
            "Original immutable argument (integer): 50\n"
          ]
        }
      ]
    },
    {
      "cell_type": "markdown",
      "source": [
        "7. **Write a function to demonstrate the behavior of mutable and immutable arguments.**"
      ],
      "metadata": {
        "id": "HeCbIQ43oS0z"
      }
    },
    {
      "cell_type": "code",
      "source": [
        "def demonstrate_mutable_immutable(mutable_arg, immutable_arg):\n",
        "    print(\"Before modification:\")\n",
        "    print(\"Mutable argument:\", mutable_arg)\n",
        "    print(\"Immutable argument:\", immutable_arg)\n",
        "\n",
        "    # Modify the mutable argument (list)\n",
        "    mutable_arg.append(4)  # This will modify the original list\n",
        "    print(\"\\nAfter modifying the mutable argument (list):\")\n",
        "    print(\"Mutable argument:\", mutable_arg)\n",
        "\n",
        "    # Modify the immutable argument (integer)\n",
        "    immutable_arg = 10  # This does not affect the original integer\n",
        "    print(\"\\nAfter modifying the immutable argument (integer):\")\n",
        "    print(\"Immutable argument:\", immutable_arg)\n",
        "\n",
        "# Create test variables\n",
        "my_list = [1, 2, 3]\n",
        "my_number = 5\n",
        "\n",
        "# Call the function\n",
        "demonstrate_mutable_immutable(my_list, my_number)\n",
        "\n",
        "# Print values after the function call to see the changes\n",
        "print(\"\\nOutside the function:\")\n",
        "print(\"Original mutable argument (list):\", my_list)  # List should be modified\n",
        "print(\"Original immutable argument (integer):\", my_number)  # Integer should remain unchanged\n"
      ],
      "metadata": {
        "colab": {
          "base_uri": "https://localhost:8080/"
        },
        "id": "9CmCHQqmoaBZ",
        "outputId": "cf155ff2-35c6-4a07-a599-e635fa6f56a1"
      },
      "execution_count": null,
      "outputs": [
        {
          "output_type": "stream",
          "name": "stdout",
          "text": [
            "Before modification:\n",
            "Mutable argument: [1, 2, 3]\n",
            "Immutable argument: 5\n",
            "\n",
            "After modifying the mutable argument (list):\n",
            "Mutable argument: [1, 2, 3, 4]\n",
            "\n",
            "After modifying the immutable argument (integer):\n",
            "Immutable argument: 10\n",
            "\n",
            "Outside the function:\n",
            "Original mutable argument (list): [1, 2, 3, 4]\n",
            "Original immutable argument (integer): 5\n"
          ]
        }
      ]
    },
    {
      "cell_type": "markdown",
      "source": [
        "8. **Write a program to demonstrate the use of logical operators.**"
      ],
      "metadata": {
        "id": "CM7K22bro607"
      }
    },
    {
      "cell_type": "code",
      "source": [
        "# Demonstrating the use of logical operators\n",
        "\n",
        "# Sample variables\n",
        "a = 10\n",
        "b = 5\n",
        "c = 15\n",
        "\n",
        "# Using 'and' operator\n",
        "print(\"Using 'and' operator:\")\n",
        "if a > b and c > a:\n",
        "    print(\"Both conditions are True: a > b and c > a\")\n",
        "else:\n",
        "    print(\"One or both conditions are False\")\n",
        "\n",
        "# Using 'or' operator\n",
        "print(\"\\nUsing 'or' operator:\")\n",
        "if a > b or c < a:\n",
        "    print(\"At least one condition is True: a > b or c < a\")\n",
        "else:\n",
        "    print(\"Both conditions are False\")\n",
        "\n",
        "# Using 'not' operator\n",
        "print(\"\\nUsing 'not' operator:\")\n",
        "if not (a < b):\n",
        "    print(\"The condition 'a < b' is False, so 'not' makes it True\")\n",
        "else:\n",
        "    print(\"The condition 'a < b' is True, so 'not' makes it False\")\n",
        "\n",
        "# More complex example\n",
        "print(\"\\nMore complex condition:\")\n",
        "if (a > b and c > a) or (b == 5 and c < 20):\n",
        "    print(\"The complex condition is True\")\n",
        "else:\n",
        "    print(\"The complex condition is False\")\n"
      ],
      "metadata": {
        "colab": {
          "base_uri": "https://localhost:8080/"
        },
        "id": "01tULNexpC0n",
        "outputId": "ef31646e-66d2-4904-a673-a73048228f3c"
      },
      "execution_count": null,
      "outputs": [
        {
          "output_type": "stream",
          "name": "stdout",
          "text": [
            "Using 'and' operator:\n",
            "Both conditions are True: a > b and c > a\n",
            "\n",
            "Using 'or' operator:\n",
            "At least one condition is True: a > b or c < a\n",
            "\n",
            "Using 'not' operator:\n",
            "The condition 'a < b' is False, so 'not' makes it True\n",
            "\n",
            "More complex condition:\n",
            "The complex condition is True\n"
          ]
        }
      ]
    },
    {
      "cell_type": "markdown",
      "source": [
        "9. **Write a Python program to convert user input from string to integer, float, and boolean types.**"
      ],
      "metadata": {
        "id": "vzirjvO_pS6L"
      }
    },
    {
      "cell_type": "code",
      "source": [
        "# Taking user input\n",
        "user_input = input(\"Enter a value: \")\n",
        "\n",
        "# Convert string input to integer\n",
        "try:\n",
        "    integer_value = int(user_input)\n",
        "    print(f\"Integer value: {integer_value}\")\n",
        "except ValueError:\n",
        "    print(\"The input cannot be converted to an integer.\")\n",
        "\n",
        "# Convert string input to float\n",
        "try:\n",
        "    float_value = float(user_input)\n",
        "    print(f\"Float value: {float_value}\")\n",
        "except ValueError:\n",
        "    print(\"The input cannot be converted to a float.\")\n",
        "\n",
        "# Convert string input to boolean\n",
        "# Note: 'True' and 'False' strings are treated as boolean values.\n",
        "if user_input.lower() == 'true':\n",
        "    boolean_value = True\n",
        "elif user_input.lower() == 'false':\n",
        "    boolean_value = False\n",
        "else:\n",
        "    boolean_value = bool(user_input)  # Non-empty string is considered True, empty is False\n",
        "\n",
        "print(f\"Boolean value: {boolean_value}\")\n"
      ],
      "metadata": {
        "colab": {
          "base_uri": "https://localhost:8080/"
        },
        "id": "vAAbPPOHpdIf",
        "outputId": "0c31e9e6-2f80-493d-c51a-53005b90ef60"
      },
      "execution_count": null,
      "outputs": [
        {
          "output_type": "stream",
          "name": "stdout",
          "text": [
            "Enter a value: 2.35\n",
            "The input cannot be converted to an integer.\n",
            "Float value: 2.35\n",
            "Boolean value: True\n"
          ]
        }
      ]
    },
    {
      "cell_type": "markdown",
      "source": [
        "10. **Write code to demonstrate type casting with list elements.**"
      ],
      "metadata": {
        "id": "qOmkneK-puCg"
      }
    },
    {
      "cell_type": "code",
      "source": [
        "# Initial list with mixed data types (strings that can be cast to int, float, etc.)\n",
        "mixed_list = ['10', '3.14', 'True', '20']\n",
        "\n",
        "# Convert string elements to integer\n",
        "int_list = [int(item) if item.isdigit() else item for item in mixed_list]\n",
        "print(\"List with integers:\", int_list)\n",
        "\n",
        "# Convert string elements to float\n",
        "float_list = [float(item) if item.replace('.', '', 1).isdigit() else item for item in mixed_list]\n",
        "print(\"List with floats:\", float_list)\n",
        "\n",
        "# Convert string elements to boolean (only 'True' and 'False' are valid, else False)\n",
        "boolean_list = [True if item.lower() == 'true' else False if item.lower() == 'false' else item for item in mixed_list]\n",
        "print(\"List with booleans:\", boolean_list)\n"
      ],
      "metadata": {
        "colab": {
          "base_uri": "https://localhost:8080/"
        },
        "id": "1WFcFCOLp0M-",
        "outputId": "526d2a74-5657-4961-ed93-ae8662d70466"
      },
      "execution_count": null,
      "outputs": [
        {
          "output_type": "stream",
          "name": "stdout",
          "text": [
            "List with integers: [10, '3.14', 'True', 20]\n",
            "List with floats: [10.0, 3.14, 'True', 20.0]\n",
            "List with booleans: ['10', '3.14', True, '20']\n"
          ]
        }
      ]
    },
    {
      "cell_type": "markdown",
      "source": [
        "11. **Write a program that checks if a number is positive, negative, or zero.**"
      ],
      "metadata": {
        "id": "FZVK-VbyqBBI"
      }
    },
    {
      "cell_type": "code",
      "source": [
        "# Get user input\n",
        "num = float(input(\"Enter a number: \"))\n",
        "\n",
        "# Check if the number is positive, negative, or zero\n",
        "if num > 0:\n",
        "    print(f\"The number {num} is positive.\")\n",
        "elif num < 0:\n",
        "    print(f\"The number {num} is negative.\")\n",
        "else:\n",
        "    print(f\"The number {num} is zero.\")\n"
      ],
      "metadata": {
        "colab": {
          "base_uri": "https://localhost:8080/"
        },
        "id": "3VneEc3-qIR-",
        "outputId": "e6813822-87ca-48a7-ec2a-5d948eaee8b9"
      },
      "execution_count": null,
      "outputs": [
        {
          "output_type": "stream",
          "name": "stdout",
          "text": [
            "Enter a number: 4\n",
            "The number 4.0 is positive.\n"
          ]
        }
      ]
    },
    {
      "cell_type": "markdown",
      "source": [
        "12. ** Write a for loop to print numbers from 1 to 100.**"
      ],
      "metadata": {
        "id": "ERvc6XOVqeBI"
      }
    },
    {
      "cell_type": "code",
      "source": [
        "# Using a for loop to print numbers from 1 to 100\n",
        "for number in range(1, 101):\n",
        "    print(number)\n"
      ],
      "metadata": {
        "colab": {
          "base_uri": "https://localhost:8080/"
        },
        "id": "p_HpcfA6qxsz",
        "outputId": "aa36f3cb-34e1-486b-c05d-760e3ae49420"
      },
      "execution_count": null,
      "outputs": [
        {
          "output_type": "stream",
          "name": "stdout",
          "text": [
            "1\n",
            "2\n",
            "3\n",
            "4\n",
            "5\n",
            "6\n",
            "7\n",
            "8\n",
            "9\n",
            "10\n",
            "11\n",
            "12\n",
            "13\n",
            "14\n",
            "15\n",
            "16\n",
            "17\n",
            "18\n",
            "19\n",
            "20\n",
            "21\n",
            "22\n",
            "23\n",
            "24\n",
            "25\n",
            "26\n",
            "27\n",
            "28\n",
            "29\n",
            "30\n",
            "31\n",
            "32\n",
            "33\n",
            "34\n",
            "35\n",
            "36\n",
            "37\n",
            "38\n",
            "39\n",
            "40\n",
            "41\n",
            "42\n",
            "43\n",
            "44\n",
            "45\n",
            "46\n",
            "47\n",
            "48\n",
            "49\n",
            "50\n",
            "51\n",
            "52\n",
            "53\n",
            "54\n",
            "55\n",
            "56\n",
            "57\n",
            "58\n",
            "59\n",
            "60\n",
            "61\n",
            "62\n",
            "63\n",
            "64\n",
            "65\n",
            "66\n",
            "67\n",
            "68\n",
            "69\n",
            "70\n",
            "71\n",
            "72\n",
            "73\n",
            "74\n",
            "75\n",
            "76\n",
            "77\n",
            "78\n",
            "79\n",
            "80\n",
            "81\n",
            "82\n",
            "83\n",
            "84\n",
            "85\n",
            "86\n",
            "87\n",
            "88\n",
            "89\n",
            "90\n",
            "91\n",
            "92\n",
            "93\n",
            "94\n",
            "95\n",
            "96\n",
            "97\n",
            "98\n",
            "99\n",
            "100\n"
          ]
        }
      ]
    },
    {
      "cell_type": "markdown",
      "source": [
        "13. **Write a Python program to find the sum of all even numbers between 1 and 50.**"
      ],
      "metadata": {
        "id": "Rr7S_EViq62N"
      }
    },
    {
      "cell_type": "code",
      "source": [
        "# Initialize the sum to 0\n",
        "sum_of_evens = 0\n",
        "\n",
        "# Loop through numbers from 1 to 50\n",
        "for num in range(1, 51):\n",
        "    if num % 2 == 0:  # Check if the number is even\n",
        "        sum_of_evens += num  # Add the even number to the sum\n",
        "\n",
        "# Print the result\n",
        "print(\"The sum of all even numbers between 1 and 50 is:\", sum_of_evens)\n"
      ],
      "metadata": {
        "colab": {
          "base_uri": "https://localhost:8080/"
        },
        "id": "ZB7mgiAcrNQ-",
        "outputId": "e1440f74-221d-46a1-fb96-447f278fb645"
      },
      "execution_count": null,
      "outputs": [
        {
          "output_type": "stream",
          "name": "stdout",
          "text": [
            "The sum of all even numbers between 1 and 50 is: 650\n"
          ]
        }
      ]
    },
    {
      "cell_type": "markdown",
      "source": [
        "14. **Write a program to reverse a string using a while loop.**"
      ],
      "metadata": {
        "id": "uPPOFv_grVB6"
      }
    },
    {
      "cell_type": "code",
      "source": [
        "# Function to reverse a string using a while loop\n",
        "def reverse_string(input_string):\n",
        "    reversed_string = \"\"\n",
        "    index = len(input_string) - 1  # Start from the last character\n",
        "\n",
        "    while index >= 0:\n",
        "        reversed_string += input_string[index]  # Append character to the reversed string\n",
        "        index -= 1  # Move to the previous character\n",
        "\n",
        "    return reversed_string\n",
        "\n",
        "# Get user input\n",
        "user_input = input(\"Enter a string to reverse: \")\n",
        "\n",
        "# Reverse the string and print it\n",
        "reversed_str = reverse_string(user_input)\n",
        "print(\"Reversed string:\", reversed_str)\n"
      ],
      "metadata": {
        "colab": {
          "base_uri": "https://localhost:8080/"
        },
        "id": "VXFV2LWXrcva",
        "outputId": "1aea5cd2-b2c7-4615-d90b-31c205fca061"
      },
      "execution_count": null,
      "outputs": [
        {
          "output_type": "stream",
          "name": "stdout",
          "text": [
            "Enter a string to reverse: MALLIKA\n",
            "Reversed string: AKILLAM\n"
          ]
        }
      ]
    },
    {
      "cell_type": "markdown",
      "source": [
        "15. **Write a Python program to calculate the factorial of a number provided by the user using a while loop.**"
      ],
      "metadata": {
        "id": "EzlAWbbtrulJ"
      }
    },
    {
      "cell_type": "code",
      "source": [
        "# Function to reverse a string using a while loop\n",
        "def reverse_string(input_string):\n",
        "    reversed_string = \"\"\n",
        "    index = len(input_string) - 1  # Start from the last character\n",
        "\n",
        "    while index >= 0:\n",
        "        reversed_string += input_string[index]  # Append character to the reversed string\n",
        "        index -= 1  # Move to the previous character\n",
        "\n",
        "    return reversed_string\n",
        "\n",
        "# Get user input\n",
        "user_input = input(\"Enter a string to reverse: \")\n",
        "\n",
        "# Reverse the string and print it\n",
        "reversed_str = reverse_string(user_input)\n",
        "print(\"Reversed string:\", reversed_str)\n"
      ],
      "metadata": {
        "colab": {
          "base_uri": "https://localhost:8080/"
        },
        "id": "Zw5rscvSr4tE",
        "outputId": "ab33d693-cb9b-43b4-e860-00b2d9f7d2a6"
      },
      "execution_count": null,
      "outputs": [
        {
          "output_type": "stream",
          "name": "stdout",
          "text": [
            "Enter a string to reverse: hello\n",
            "Reversed string: olleh\n"
          ]
        }
      ]
    }
  ]
}